{
 "cells": [
  {
   "cell_type": "markdown",
   "id": "8e974dca-2b1d-49f4-b8e2-9863464846d1",
   "metadata": {},
   "source": [
    "Data Science Tools and Ecosystem"
   ]
  },
  {
   "cell_type": "markdown",
   "id": "30ca6974-0b5b-4911-9a3b-91910a44b32d",
   "metadata": {},
   "source": [
    "In this notebook, Data Science Tools and Ecosystem are summarized."
   ]
  },
  {
   "cell_type": "markdown",
   "id": "325d0801-68c2-4e3f-bf0d-f6fb12880e05",
   "metadata": {},
   "source": [
    "Objectives:\n",
    "* SQL\n",
    "* Python\n",
    "* R Language"
   ]
  },
  {
   "cell_type": "markdown",
   "id": "25adb5ad-ca88-4459-9e1b-b2c17f2ba342",
   "metadata": {},
   "source": [
    "Some of the commonly used libraries used by Data Scientists include:\n",
    "1. Panda\n",
    "2. Tensorflow\n",
    "3. Sci-kit learn\n",
    "4. Matplotlib\n"
   ]
  },
  {
   "cell_type": "markdown",
   "id": "e3c4c412-4f53-4773-b9cd-1ceda71df2e8",
   "metadata": {},
   "source": [
    "Some of the popular languages that Data Scientists use are:\n",
    "1. Structured Querry Language\n",
    "2. R Language\n",
    "3. Python\n",
    "4. Scala"
   ]
  },
  {
   "cell_type": "markdown",
   "id": "26e6adb5-264f-43e2-b628-b60d59b3080b",
   "metadata": {},
   "source": [
    "|Data Science Tools|\n",
    "|------------------|\n",
    "|Jupyter Notebook  |\n",
    "|RStudio           |\n",
    "|Apache Zeppelin   |"
   ]
  },
  {
   "cell_type": "markdown",
   "id": "edc5e5b1-e86d-4b6b-bdc9-6297b3a4208a",
   "metadata": {},
   "source": [
    "Below are a few examples of evaluating arithmetic expressions in Python"
   ]
  },
  {
   "cell_type": "code",
   "execution_count": 1,
   "id": "43936e31-eeb1-49f9-98bc-2bfdb7148b94",
   "metadata": {
    "tags": []
   },
   "outputs": [
    {
     "data": {
      "text/plain": [
       "17"
      ]
     },
     "execution_count": 1,
     "metadata": {},
     "output_type": "execute_result"
    }
   ],
   "source": [
    "(3*4)+5\n",
    " #This a simple arithmetic expression to mutiply then add integers."
   ]
  },
  {
   "cell_type": "code",
   "execution_count": 5,
   "id": "6a700ba3-66c0-4adb-9a74-c42bc600cb65",
   "metadata": {
    "tags": []
   },
   "outputs": [
    {
     "data": {
      "text/plain": [
       "3.3333333333333335"
      ]
     },
     "execution_count": 5,
     "metadata": {},
     "output_type": "execute_result"
    }
   ],
   "source": [
    "# Define the number of minutes\n",
    "minutes = 200\n",
    "\n",
    "# Convert minutes to hours\n",
    "hours = minutes / 60\n",
    "\n",
    "# Display the result\n",
    "hours\n",
    " #This will convert 200 minutes to hours by diving by 60"
   ]
  },
  {
   "cell_type": "markdown",
   "id": "6ed5a9bf-8ddd-4a27-9646-68de692e5fdd",
   "metadata": {},
   "source": [
    "## Author\n",
    "Akor Simon"
   ]
  },
  {
   "cell_type": "code",
   "execution_count": null,
   "id": "a6a61fa9-a232-4eee-8d68-12bdf42fec44",
   "metadata": {},
   "outputs": [],
   "source": []
  }
 ],
 "metadata": {
  "kernelspec": {
   "display_name": "Python",
   "language": "python",
   "name": "conda-env-python-py"
  },
  "language_info": {
   "codemirror_mode": {
    "name": "ipython",
    "version": 3
   },
   "file_extension": ".py",
   "mimetype": "text/x-python",
   "name": "python",
   "nbconvert_exporter": "python",
   "pygments_lexer": "ipython3",
   "version": "3.7.12"
  }
 },
 "nbformat": 4,
 "nbformat_minor": 5
}
